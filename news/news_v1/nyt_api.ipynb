{
 "cells": [
  {
   "cell_type": "code",
   "execution_count": 4,
   "id": "9f79ab24",
   "metadata": {},
   "outputs": [
    {
     "data": {
      "text/html": [
       "<style>.container { width:100% !important; }</style>"
      ],
      "text/plain": [
       "<IPython.core.display.HTML object>"
      ]
     },
     "metadata": {},
     "output_type": "display_data"
    }
   ],
   "source": [
    "import requests\n",
    "from pprint import pprint\n",
    "\n",
    "from IPython.display import display, HTML\n",
    "display(HTML(\"<style>.container { width:100% !important; }</style>\"))\n",
    "\n",
    "import pandas as pd\n",
    "import time\n",
    "pd.set_option('display.max_columns', None)\n",
    "pd.set_option('max_colwidth', None)"
   ]
  },
  {
   "cell_type": "code",
   "execution_count": 2,
   "id": "de53b8bc",
   "metadata": {},
   "outputs": [],
   "source": [
    "api_key = \"api-key=td7X3SlGWRvZfBdGcUsdB5QqfRgJ7gut\""
   ]
  },
  {
   "cell_type": "markdown",
   "id": "3d52a2dd",
   "metadata": {},
   "source": [
    "## Semantic\n",
    "\n",
    "Search for organization name to be used in Article Search"
   ]
  },
  {
   "cell_type": "code",
   "execution_count": 102,
   "id": "88f17451",
   "metadata": {},
   "outputs": [],
   "source": [
    "url = \"http://api.nytimes.com/svc/semantic/v2/concept/search.json\"\n",
    "\n",
    "params = {\n",
    "    \"query\": \"unitedhealth\",\n",
    "    \"concept_type\":\"nytd_porg\",\n",
    "    \"api-key\": \"td7X3SlGWRvZfBdGcUsdB5QqfRgJ7gut\",\n",
    "}\n",
    "\n",
    "# query = \"query=microsoft\"\n",
    "# url = f\"{endpoint}?{query}&concept_type=nytd_porg&{api_key}\"\n",
    "response = requests.get(url, params=params)"
   ]
  },
  {
   "cell_type": "code",
   "execution_count": 103,
   "id": "8d14d485",
   "metadata": {
    "scrolled": false
   },
   "outputs": [
    {
     "data": {
      "text/plain": [
       "{'copyright': 'Copyright (c) 2021 The New York Times Company. All Rights Reserved.',\n",
       " 'fields': [],\n",
       " 'num_results': 2,\n",
       " 'results': [{'concept_created': '\"2009-10-28 14:30:04-04:00\"',\n",
       "   'concept_gender': None,\n",
       "   'concept_id': 42080,\n",
       "   'concept_is_locked_by': None,\n",
       "   'concept_name': 'UnitedHealth Group',\n",
       "   'concept_rule': None,\n",
       "   'concept_semaphore_evidence': None,\n",
       "   'concept_semaphore_uri': None,\n",
       "   'concept_status': 'Deleted',\n",
       "   'concept_suggest_backend': 'Semaphore',\n",
       "   'concept_type': 'nytd_porg',\n",
       "   'concept_updated': '\"2013-07-22 15:44:28-04:00\"',\n",
       "   'concept_uri': 'nyt://organization/fcf01b3d-47b9-5383-ba0a-b967c283b59f',\n",
       "   'is_sensitive': 0,\n",
       "   'is_times_tag': 0,\n",
       "   'vernacular': 'UnitedHealth Group'},\n",
       "  {'concept_created': '\"2013-02-26 01:58:26-05:00\"',\n",
       "   'concept_gender': None,\n",
       "   'concept_id': 1098324,\n",
       "   'concept_is_locked_by': None,\n",
       "   'concept_name': 'UnitedHealth Group Inc',\n",
       "   'concept_rule': None,\n",
       "   'concept_semaphore_evidence': None,\n",
       "   'concept_semaphore_uri': None,\n",
       "   'concept_status': 'Active',\n",
       "   'concept_suggest_backend': 'Semaphore',\n",
       "   'concept_type': 'nytd_porg',\n",
       "   'concept_updated': '\"2017-09-18 08:37:24-04:00\"',\n",
       "   'concept_uri': 'nyt://organization/3b14e6e0-dac1-563d-ac14-3281b4f07320',\n",
       "   'is_sensitive': 0,\n",
       "   'is_times_tag': 1,\n",
       "   'vernacular': 'UnitedHealth Group'}],\n",
       " 'status': 'OK'}"
      ]
     },
     "execution_count": 103,
     "metadata": {},
     "output_type": "execute_result"
    }
   ],
   "source": [
    "response.json()"
   ]
  },
  {
   "cell_type": "code",
   "execution_count": 104,
   "id": "29745097",
   "metadata": {},
   "outputs": [],
   "source": [
    "org = 'UnitedHealth Group'\n",
    "url = f\"http://api.nytimes.com/svc/semantic/v2/concept/name/nytd_porg/{org}\"\n",
    "\n",
    "params = {\n",
    "    \"fields\": \"all\",\n",
    "    \"api-key\": \"td7X3SlGWRvZfBdGcUsdB5QqfRgJ7gut\",\n",
    "}\n",
    "\n",
    "\n",
    "# endpoint = \"http://api.nytimes.com/svc/semantic/v2/concept/name\"\n",
    "\n",
    "# url = f\"{endpoint}/nytd_porg/{org}?fields=all&{api_key}\"\n",
    "response = requests.get(url, params=params)"
   ]
  },
  {
   "cell_type": "code",
   "execution_count": 105,
   "id": "75a0d401",
   "metadata": {
    "scrolled": false
   },
   "outputs": [
    {
     "data": {
      "text/plain": [
       "{'copyright': 'Copyright (c) 2021 The New York Times Company. All Rights Reserved.',\n",
       " 'fields': ['all'],\n",
       " 'num_results': 1,\n",
       " 'results': [{'ancestors': [],\n",
       "   'article_list': {'results': [{'body': 'The UnitedHealth Group reports 10 percent earnings increase in the fourth quarter.',\n",
       "      'byline': 'By Reed Abelson',\n",
       "      'concepts': {'nytd_des': ['Health Insurance and Managed Care'],\n",
       "       'nytd_org': ['UnitedHealth Group']},\n",
       "      'date': '2011-01-20T20:07:14+0000',\n",
       "      'document_type': 'article',\n",
       "      'title': 'Insurers Reporting Healthy Profits',\n",
       "      'type_of_material': None,\n",
       "      'url': 'https://prescriptions.blogs.nytimes.com/2011/01/20/insurers-reporting-healthy-profits/'},\n",
       "     {'body': 'Andrew M. Cuomo is widely credited with building on the legacy of the previous attorney general. But the praise is neither universal nor complete.',\n",
       "      'byline': 'By Alison Leigh Cowan',\n",
       "      'concepts': {'nytd_des': ['Health Insurance and Managed Care',\n",
       "        'Attorneys General',\n",
       "        'Suits and Litigation',\n",
       "        'Politics and Government'],\n",
       "       'nytd_geo': ['New York State'],\n",
       "       'nytd_org': ['UnitedHealth Group', 'Ingenix Inc'],\n",
       "       'nytd_per': ['Cuomo, Andrew M']},\n",
       "      'date': '2010-10-27T02:21:43+0000',\n",
       "      'document_type': 'article',\n",
       "      'title': 'Mixed Views on Cuomo as Attorney General',\n",
       "      'type_of_material': 'News',\n",
       "      'url': 'https://www.nytimes.com/2010/10/27/nyregion/27cuomo.html'},\n",
       "     {'body': 'As the White House begins to enact the new national health care law, the biggest insurers are promoting plans with lower premiums that allow fewer doctors and hospitals.',\n",
       "      'byline': 'By Reed Abelson',\n",
       "      'concepts': {'nytd_des': ['Health Insurance and Managed Care',\n",
       "        'Reform and Reorganization',\n",
       "        'Medicine and Health',\n",
       "        'Small Business'],\n",
       "       'nytd_geo': ['San Diego (Calif)', 'Chicago (Ill)'],\n",
       "       'nytd_org': ['WellPoint Inc',\n",
       "        'UnitedHealth Group',\n",
       "        'Cigna Corp',\n",
       "        'AETNA INCORPORATED'],\n",
       "       'nytd_per': ['DeParle, Nancy-Ann Min', 'Obama, Barack']},\n",
       "      'date': '2010-07-17T21:49:18+0000',\n",
       "      'document_type': 'article',\n",
       "      'title': 'Insurers Push Plans That Limit Choice of Doctor',\n",
       "      'type_of_material': 'News',\n",
       "      'url': 'https://www.nytimes.com/2010/07/18/business/18choice.html'},\n",
       "     {'body': 'White Collar Watch examines why the government’s criminal prosecutions in cases involving options backdating appear to be drawing to a close.',\n",
       "      'byline': 'By Peter J. Henning',\n",
       "      'concepts': {'nytd_des': ['Securities and Commodities Violations',\n",
       "        'Stock Options and Purchase Plans',\n",
       "        'Suits and Litigation'],\n",
       "       'nytd_org': ['Adelphia Communications Corporation',\n",
       "        'Bear Stearns Cos',\n",
       "        'Broadcom Corporation',\n",
       "        'Brocade Communications Systems Inc',\n",
       "        'Comverse Technology Inc',\n",
       "        'Engineered Support Systems',\n",
       "        'Goldman Sachs Group',\n",
       "        'Justice Department',\n",
       "        'KB Home',\n",
       "        'McAfee Inc',\n",
       "        'Securities and Exchange Commission',\n",
       "        'UnitedHealth Group',\n",
       "        'Worldcom Inc'],\n",
       "       'nytd_per': ['Madoff, Bernard L',\n",
       "        'McGuire, William W',\n",
       "        'Nixon, Richard Milhous',\n",
       "        'Reyes, Gregory L',\n",
       "        'Rigas, John J',\n",
       "        'Rigas, Timothy',\n",
       "        'Skilling, Jeffrey K']},\n",
       "      'date': '2010-04-30T14:01:32+0000',\n",
       "      'document_type': 'article',\n",
       "      'title': 'Behind the Fade-Out of Options Backdating Cases',\n",
       "      'type_of_material': None,\n",
       "      'url': 'https://dealbook.nytimes.com/2010/04/30/behind-the-fade-out-of-options-backdating-cases/'},\n",
       "     {'body': 'A clinically tested program, in which losing 5 percent of body weight cut the risk of Type 2 diabetes by more than half, will be expanded to Y.M.C.A.’s in seven cities.',\n",
       "      'byline': 'By Reed Abelson',\n",
       "      'concepts': {'nytd_des': ['Diabetes',\n",
       "        'Exercise',\n",
       "        'Health Insurance and Managed Care',\n",
       "        'Weight'],\n",
       "       'nytd_org': ['UnitedHealth Group', \"Young Men's Christian Assn\"]},\n",
       "      'date': '2010-04-13T22:03:45+0000',\n",
       "      'document_type': 'article',\n",
       "      'title': 'An Insurer’s New Approach to Diabetes',\n",
       "      'type_of_material': 'News',\n",
       "      'url': 'https://www.nytimes.com/2010/04/14/health/14diabetes.html'},\n",
       "     {'body': 'Lacking a clear consensus about the strength of the recovery, Wall Street fell into a seesaw pattern on Monday.',\n",
       "      'byline': 'By Dealbook',\n",
       "      'concepts': {'nytd_org': ['American International Group',\n",
       "        'Arrow Energy Limited',\n",
       "        'Cisco Systems Inc',\n",
       "        'Health Net Incorporated',\n",
       "        'ING Groep NV',\n",
       "        'MetLife Inc',\n",
       "        'PetroChina Company Ltd',\n",
       "        'Pfizer Inc',\n",
       "        'Royal Dutch Shell Plc',\n",
       "        'UnitedHealth Group',\n",
       "        'WellPoint Inc']},\n",
       "      'date': '2010-03-09T10:00:01+0000',\n",
       "      'document_type': 'article',\n",
       "      'title': 'Hesitation on Wall Street Leaves Shares Flat',\n",
       "      'type_of_material': None,\n",
       "      'url': 'https://dealbook.nytimes.com/2010/03/09/hesitation-on-wall-street-leaves-shares-flat/'},\n",
       "     {'body': 'Seeking support for an overhaul, the administration is pointing to a Goldman Sachs study suggesting investors buy insurance shares because rates are up and competition is down.',\n",
       "      'byline': 'By David M. Herszenhorn',\n",
       "      'concepts': {'nytd_des': ['United States Politics and Government',\n",
       "        'Medicine and Health',\n",
       "        'Health Insurance and Managed Care',\n",
       "        'Reform and Reorganization'],\n",
       "       'nytd_org': ['UnitedHealth Group', 'Cigna Corp', 'Goldman Sachs Group'],\n",
       "       'nytd_per': ['Sebelius, Kathleen', 'Obama, Barack']},\n",
       "      'date': '2010-03-07T00:46:26+0000',\n",
       "      'document_type': 'article',\n",
       "      'title': 'Obama Wields Analysis of Insurers in Health Battle',\n",
       "      'type_of_material': 'News',\n",
       "      'url': 'https://www.nytimes.com/2010/03/07/health/policy/07health.html'},\n",
       "     {'body': 'Peter J. Henning of DealBook’s White Collar Watch examines the government’s latest legal defeat in its efforts to crack down on options backdating, this time involving a former director of Engineered Support Systems.',\n",
       "      'byline': 'By Peter J. Henning',\n",
       "      'concepts': {'nytd_des': ['Securities and Commodities Violations',\n",
       "        'Stock Options and Purchase Plans',\n",
       "        'Suits and Litigation'],\n",
       "       'nytd_org': ['Broadcom Corporation',\n",
       "        'Brocade Communications Systems Inc',\n",
       "        'Comverse Technology Inc',\n",
       "        'Engineered Support Systems',\n",
       "        'Justice Department',\n",
       "        'McAfee Inc',\n",
       "        'Securities and Exchange Commission',\n",
       "        'UnitedHealth Group']},\n",
       "      'date': '2010-02-16T14:30:09+0000',\n",
       "      'document_type': 'article',\n",
       "      'title': 'Another Options Backdating Defeat',\n",
       "      'type_of_material': None,\n",
       "      'url': 'https://dealbook.nytimes.com/2010/02/16/another-options-backdating-defeat/'},\n",
       "     {'body': 'A start-up called Truth on Call lets reporters, financial analysts, pharmaceutical executives and, soon, patients, text questions to a group of doctors.',\n",
       "      'byline': 'By Claire Cain Miller',\n",
       "      'concepts': {'nytd_des': ['Computers and the Internet',\n",
       "        'Doctors',\n",
       "        'Medicine and Health',\n",
       "        'Start-ups',\n",
       "        'Text Messaging',\n",
       "        'Third World and Developing Countries',\n",
       "        'Wireless Communications'],\n",
       "       'nytd_org': ['UnitedHealth Group']},\n",
       "      'date': '2010-02-03T22:45:35+0000',\n",
       "      'document_type': 'article',\n",
       "      'title': 'Have a Medical Question? Text a Group of Doctors',\n",
       "      'type_of_material': None,\n",
       "      'url': 'https://bits.blogs.nytimes.com/2010/02/03/have-a-medical-question-text-a-group-of-doctors/'},\n",
       "     {'body': 'NowClinic, a service that connects patients and doctors using video chat, will expand across the country next year, but it is meeting some resistance.',\n",
       "      'byline': 'By Claire Cain Miller',\n",
       "      'concepts': {'nytd_des': ['Medicine and Health',\n",
       "        'Health Insurance and Managed Care',\n",
       "        'Computers and the Internet',\n",
       "        'Doctors',\n",
       "        'Videophones and Videoconferencing'],\n",
       "       'nytd_org': ['UnitedHealth Group']},\n",
       "      'date': '2009-12-21T01:20:38+0000',\n",
       "      'document_type': 'article',\n",
       "      'title': 'The Virtual Visit May Expand Access to Doctors',\n",
       "      'type_of_material': 'News',\n",
       "      'url': 'https://www.nytimes.com/2009/12/21/technology/start-ups/21doctors.html'}],\n",
       "    'total': 69},\n",
       "   'concept_created': '\"2009-10-28 14:30:04-04:00\"',\n",
       "   'concept_gender': None,\n",
       "   'concept_id': 42080,\n",
       "   'concept_is_locked_by': None,\n",
       "   'concept_name': 'UnitedHealth Group',\n",
       "   'concept_rule': None,\n",
       "   'concept_semaphore_evidence': None,\n",
       "   'concept_semaphore_uri': None,\n",
       "   'concept_status': 'Deleted',\n",
       "   'concept_suggest_backend': 'Semaphore',\n",
       "   'concept_type': 'nytd_porg',\n",
       "   'concept_updated': '\"2013-07-22 15:44:28-04:00\"',\n",
       "   'concept_uri': 'nyt://organization/fcf01b3d-47b9-5383-ba0a-b967c283b59f',\n",
       "   'descendants': [],\n",
       "   'geocodes': [],\n",
       "   'is_sensitive': 0,\n",
       "   'is_times_tag': 0,\n",
       "   'links': [{'concept_id': 42080,\n",
       "     'concept_name': 'UnitedHealth Group',\n",
       "     'concept_status': 'Deleted',\n",
       "     'concept_type': 'nytd_porg',\n",
       "     'is_times_tag': 0,\n",
       "     'link': 'UnitedHealth_Group',\n",
       "     'link_id': 1725632,\n",
       "     'link_type': 'wikipedia_raw_name',\n",
       "     'relation': 'sameAs'}],\n",
       "   'pages': [],\n",
       "   'scope_notes': [],\n",
       "   'search_api_query': 'http://search.nyt.net/svc/add/v1/sitesearch.json?fq=organizations%3A%22UnitedHealth+Group%22&sort=newest&type=article%2Cblogpost&offset=0',\n",
       "   'taxonomy': [],\n",
       "   'teragram': [],\n",
       "   'ticker_symbol': [],\n",
       "   'variants': [],\n",
       "   'vernacular': 'UnitedHealth Group'}],\n",
       " 'status': 'OK'}"
      ]
     },
     "execution_count": 105,
     "metadata": {},
     "output_type": "execute_result"
    }
   ],
   "source": [
    "response.json()"
   ]
  },
  {
   "cell_type": "markdown",
   "id": "e731f4c0",
   "metadata": {},
   "source": [
    "## Article Search"
   ]
  },
  {
   "cell_type": "code",
   "execution_count": 110,
   "id": "5c6d7d35",
   "metadata": {},
   "outputs": [
    {
     "name": "stdout",
     "output_type": "stream",
     "text": [
      "{'q': '', 'begin_date': '20210301', 'end_date': '20230317', 'api-key': 'td7X3SlGWRvZfBdGcUsdB5QqfRgJ7gut', 'fq': 'organizations:(UnitedHealth Group Inc)', 'page': 0}\n",
      "{'hits': 6, 'offset': 0, 'time': 9}\n",
      "{'q': '', 'begin_date': '20210301', 'end_date': '20230317', 'api-key': 'td7X3SlGWRvZfBdGcUsdB5QqfRgJ7gut', 'fq': 'organizations:(UnitedHealth Group Inc)', 'page': 1}\n",
      "{'hits': 6, 'offset': 10, 'time': 4}\n"
     ]
    }
   ],
   "source": [
    "# Set the API endpoint and initial parameters\n",
    "url = \"https://api.nytimes.com/svc/search/v2/articlesearch.json\"\n",
    "params = {\n",
    "    \"q\": \"\",\n",
    "    \"begin_date\": \"20210301\",\n",
    "    \"end_date\": \"20230317\",\n",
    "    \"api-key\": \"td7X3SlGWRvZfBdGcUsdB5QqfRgJ7gut\",\n",
    "}\n",
    "\n",
    "# Define the list of organizations to search for\n",
    "organizations = [\n",
    "#      'Apple Inc', \n",
    "#      'Amazon.com Inc', \n",
    "#      'Facebook Inc', \n",
    "#      'Alphabet Inc', \n",
    "#      'Tesla Motors Inc', \n",
    "#      'Microsoft Corp',\n",
    "#      'NVIDIA Corporation',\n",
    "     'UnitedHealth Group Inc',\n",
    "#      'Exxon Mobil Corp',\n",
    "#      'Johnson & Johnson',\n",
    "#      'JPMorgan Chase & Company',\n",
    "#      'Visa Inc',\n",
    "#      'Procter & Gamble Company',\n",
    "#      'MasterCard Inc',\n",
    "#      'Home Depot Inc',\n",
    "#      'AbbVie Inc',\n",
    "#      'Chevron Corp',\n",
    "#      'Eli Lilly and Company',\n",
    "#      'Broadcom Corporation',\n",
    "#      'Pepsico Inc',\n",
    "#      'Coca-Cola Co',\n",
    "#      'Pfizer Inc',\n",
    "    \n",
    "]\n",
    "\n",
    "# Initialize a list to store all the DataFrames\n",
    "df_list = []\n",
    "\n",
    "# Loop through all organizations and all pages of results to retrieve the articles\n",
    "for organization in organizations:\n",
    "    params[\"fq\"] = f\"organizations:({organization})\"\n",
    "    articles = []\n",
    "    params[\"page\"] = 0 # start with the first page of results\n",
    "    while True:\n",
    "        print(params)\n",
    "        response = requests.get(url, params=params)\n",
    "        print(response.json()['response']['meta'])\n",
    "        # 10 requests per minute so sleep 6 seconds between requests\n",
    "        time.sleep(6)\n",
    "        \n",
    "        response_json = response.json()\n",
    "        docs = response_json[\"response\"][\"docs\"]\n",
    "        \n",
    "        # Check if there are any more pages of results\n",
    "        if len(docs) == 0:\n",
    "            break\n",
    "\n",
    "        # Append the articles from this page to the overall list\n",
    "        articles.extend(docs)\n",
    "\n",
    "        # Increment the page number to retrieve the next page of results\n",
    "        params[\"page\"] += 1\n",
    "    \n",
    "    df = pd.DataFrame(articles)\n",
    "    df[\"Organization\"] = organization\n",
    "    df_list.append(df)"
   ]
  },
  {
   "cell_type": "code",
   "execution_count": 111,
   "id": "dbb69ef0",
   "metadata": {},
   "outputs": [
    {
     "data": {
      "text/html": [
       "<div>\n",
       "<style scoped>\n",
       "    .dataframe tbody tr th:only-of-type {\n",
       "        vertical-align: middle;\n",
       "    }\n",
       "\n",
       "    .dataframe tbody tr th {\n",
       "        vertical-align: top;\n",
       "    }\n",
       "\n",
       "    .dataframe thead tr th {\n",
       "        text-align: left;\n",
       "    }\n",
       "\n",
       "    .dataframe thead tr:last-of-type th {\n",
       "        text-align: right;\n",
       "    }\n",
       "</style>\n",
       "<table border=\"1\" class=\"dataframe\">\n",
       "  <thead>\n",
       "    <tr>\n",
       "      <th></th>\n",
       "      <th colspan=\"3\" halign=\"left\">pub_date</th>\n",
       "    </tr>\n",
       "    <tr>\n",
       "      <th></th>\n",
       "      <th>count</th>\n",
       "      <th>min</th>\n",
       "      <th>max</th>\n",
       "    </tr>\n",
       "    <tr>\n",
       "      <th>Organization</th>\n",
       "      <th></th>\n",
       "      <th></th>\n",
       "      <th></th>\n",
       "    </tr>\n",
       "  </thead>\n",
       "  <tbody>\n",
       "    <tr>\n",
       "      <th>UnitedHealth Group Inc</th>\n",
       "      <td>6</td>\n",
       "      <td>2021-04-01T21:19:10+0000</td>\n",
       "      <td>2022-12-29T10:00:17+0000</td>\n",
       "    </tr>\n",
       "  </tbody>\n",
       "</table>\n",
       "</div>"
      ],
      "text/plain": [
       "                       pub_date                            \\\n",
       "                          count                       min   \n",
       "Organization                                                \n",
       "UnitedHealth Group Inc        6  2021-04-01T21:19:10+0000   \n",
       "\n",
       "                                                  \n",
       "                                             max  \n",
       "Organization                                      \n",
       "UnitedHealth Group Inc  2022-12-29T10:00:17+0000  "
      ]
     },
     "execution_count": 111,
     "metadata": {},
     "output_type": "execute_result"
    }
   ],
   "source": [
    "master_df = pd.concat(df_list)\n",
    "\n",
    "master_df.groupby(\"Organization\").agg({\"pub_date\":[\"count\", \"min\", \"max\"]})"
   ]
  },
  {
   "cell_type": "code",
   "execution_count": 112,
   "id": "0c6d1291",
   "metadata": {},
   "outputs": [],
   "source": [
    "history_df = pd.read_csv(\"total_news_2023_03_17.csv\")\n",
    "new_df = pd.concat([history_df, master_df])"
   ]
  },
  {
   "cell_type": "code",
   "execution_count": 113,
   "id": "a18e71a3",
   "metadata": {},
   "outputs": [
    {
     "data": {
      "text/html": [
       "<div>\n",
       "<style scoped>\n",
       "    .dataframe tbody tr th:only-of-type {\n",
       "        vertical-align: middle;\n",
       "    }\n",
       "\n",
       "    .dataframe tbody tr th {\n",
       "        vertical-align: top;\n",
       "    }\n",
       "\n",
       "    .dataframe thead tr th {\n",
       "        text-align: left;\n",
       "    }\n",
       "\n",
       "    .dataframe thead tr:last-of-type th {\n",
       "        text-align: right;\n",
       "    }\n",
       "</style>\n",
       "<table border=\"1\" class=\"dataframe\">\n",
       "  <thead>\n",
       "    <tr>\n",
       "      <th></th>\n",
       "      <th colspan=\"3\" halign=\"left\">pub_date</th>\n",
       "    </tr>\n",
       "    <tr>\n",
       "      <th></th>\n",
       "      <th>count</th>\n",
       "      <th>min</th>\n",
       "      <th>max</th>\n",
       "    </tr>\n",
       "    <tr>\n",
       "      <th>Organization</th>\n",
       "      <th></th>\n",
       "      <th></th>\n",
       "      <th></th>\n",
       "    </tr>\n",
       "  </thead>\n",
       "  <tbody>\n",
       "    <tr>\n",
       "      <th>Alphabet Inc</th>\n",
       "      <td>70</td>\n",
       "      <td>2021-03-05T12:22:36+0000</td>\n",
       "      <td>2023-03-08T10:00:33+0000</td>\n",
       "    </tr>\n",
       "    <tr>\n",
       "      <th>Amazon.com Inc</th>\n",
       "      <td>547</td>\n",
       "      <td>2021-03-01T15:52:26+0000</td>\n",
       "      <td>2023-03-16T17:43:56+0000</td>\n",
       "    </tr>\n",
       "    <tr>\n",
       "      <th>Apple Inc</th>\n",
       "      <td>344</td>\n",
       "      <td>2021-03-03T10:00:20+0000</td>\n",
       "      <td>2023-03-15T09:00:28+0000</td>\n",
       "    </tr>\n",
       "    <tr>\n",
       "      <th>Exxon Mobil Corp</th>\n",
       "      <td>78</td>\n",
       "      <td>2021-03-03T12:30:07+0000</td>\n",
       "      <td>2023-03-05T19:48:58+0000</td>\n",
       "    </tr>\n",
       "    <tr>\n",
       "      <th>Facebook Inc</th>\n",
       "      <td>604</td>\n",
       "      <td>2021-03-03T19:09:38+0000</td>\n",
       "      <td>2023-03-14T13:32:27+0000</td>\n",
       "    </tr>\n",
       "    <tr>\n",
       "      <th>JPMorgan Chase &amp; Company</th>\n",
       "      <td>98</td>\n",
       "      <td>2021-03-01T17:20:37+0000</td>\n",
       "      <td>2023-03-17T11:53:54+0000</td>\n",
       "    </tr>\n",
       "    <tr>\n",
       "      <th>Johnson &amp; Johnson</th>\n",
       "      <td>197</td>\n",
       "      <td>2021-03-01T02:56:48+0000</td>\n",
       "      <td>2023-02-01T10:00:29+0000</td>\n",
       "    </tr>\n",
       "    <tr>\n",
       "      <th>Microsoft Corp</th>\n",
       "      <td>195</td>\n",
       "      <td>2021-03-03T11:00:07+0000</td>\n",
       "      <td>2023-03-16T21:43:59+0000</td>\n",
       "    </tr>\n",
       "    <tr>\n",
       "      <th>NVIDIA Corporation</th>\n",
       "      <td>10</td>\n",
       "      <td>2021-05-11T10:03:52+0000</td>\n",
       "      <td>2022-10-27T14:23:31+0000</td>\n",
       "    </tr>\n",
       "    <tr>\n",
       "      <th>Tesla Motors Inc</th>\n",
       "      <td>273</td>\n",
       "      <td>2021-03-04T19:35:29+0000</td>\n",
       "      <td>2023-03-09T19:55:03+0000</td>\n",
       "    </tr>\n",
       "    <tr>\n",
       "      <th>UnitedHealth Group Inc</th>\n",
       "      <td>6</td>\n",
       "      <td>2021-04-01T21:19:10+0000</td>\n",
       "      <td>2022-12-29T10:00:17+0000</td>\n",
       "    </tr>\n",
       "    <tr>\n",
       "      <th>Visa Inc</th>\n",
       "      <td>6</td>\n",
       "      <td>2021-11-17T16:12:38+0000</td>\n",
       "      <td>2023-02-09T21:00:08+0000</td>\n",
       "    </tr>\n",
       "  </tbody>\n",
       "</table>\n",
       "</div>"
      ],
      "text/plain": [
       "                         pub_date                            \\\n",
       "                            count                       min   \n",
       "Organization                                                  \n",
       "Alphabet Inc                   70  2021-03-05T12:22:36+0000   \n",
       "Amazon.com Inc                547  2021-03-01T15:52:26+0000   \n",
       "Apple Inc                     344  2021-03-03T10:00:20+0000   \n",
       "Exxon Mobil Corp               78  2021-03-03T12:30:07+0000   \n",
       "Facebook Inc                  604  2021-03-03T19:09:38+0000   \n",
       "JPMorgan Chase & Company       98  2021-03-01T17:20:37+0000   \n",
       "Johnson & Johnson             197  2021-03-01T02:56:48+0000   \n",
       "Microsoft Corp                195  2021-03-03T11:00:07+0000   \n",
       "NVIDIA Corporation             10  2021-05-11T10:03:52+0000   \n",
       "Tesla Motors Inc              273  2021-03-04T19:35:29+0000   \n",
       "UnitedHealth Group Inc          6  2021-04-01T21:19:10+0000   \n",
       "Visa Inc                        6  2021-11-17T16:12:38+0000   \n",
       "\n",
       "                                                    \n",
       "                                               max  \n",
       "Organization                                        \n",
       "Alphabet Inc              2023-03-08T10:00:33+0000  \n",
       "Amazon.com Inc            2023-03-16T17:43:56+0000  \n",
       "Apple Inc                 2023-03-15T09:00:28+0000  \n",
       "Exxon Mobil Corp          2023-03-05T19:48:58+0000  \n",
       "Facebook Inc              2023-03-14T13:32:27+0000  \n",
       "JPMorgan Chase & Company  2023-03-17T11:53:54+0000  \n",
       "Johnson & Johnson         2023-02-01T10:00:29+0000  \n",
       "Microsoft Corp            2023-03-16T21:43:59+0000  \n",
       "NVIDIA Corporation        2022-10-27T14:23:31+0000  \n",
       "Tesla Motors Inc          2023-03-09T19:55:03+0000  \n",
       "UnitedHealth Group Inc    2022-12-29T10:00:17+0000  \n",
       "Visa Inc                  2023-02-09T21:00:08+0000  "
      ]
     },
     "execution_count": 113,
     "metadata": {},
     "output_type": "execute_result"
    }
   ],
   "source": [
    "new_df.groupby(\"Organization\").agg({\"pub_date\":[\"count\", \"min\", \"max\"]})"
   ]
  },
  {
   "cell_type": "code",
   "execution_count": 114,
   "id": "166748ab",
   "metadata": {},
   "outputs": [],
   "source": [
    "new_df.to_csv(\"total_news_2023_03_17.csv\", index=False, mode=\"w\")"
   ]
  },
  {
   "cell_type": "markdown",
   "id": "50935342",
   "metadata": {},
   "source": [
    "## Explore data"
   ]
  },
  {
   "cell_type": "code",
   "execution_count": 115,
   "id": "06cafebe",
   "metadata": {},
   "outputs": [],
   "source": [
    "total_df = pd.read_csv(\"total_news_2023_03_17.csv\", parse_dates=[\"pub_date\"])"
   ]
  },
  {
   "cell_type": "code",
   "execution_count": 116,
   "id": "1967f777",
   "metadata": {},
   "outputs": [
    {
     "name": "stdout",
     "output_type": "stream",
     "text": [
      "<class 'pandas.core.frame.DataFrame'>\n",
      "RangeIndex: 2428 entries, 0 to 2427\n",
      "Data columns (total 21 columns):\n",
      " #   Column            Non-Null Count  Dtype              \n",
      "---  ------            --------------  -----              \n",
      " 0   abstract          2428 non-null   object             \n",
      " 1   web_url           2428 non-null   object             \n",
      " 2   snippet           2422 non-null   object             \n",
      " 3   lead_paragraph    2420 non-null   object             \n",
      " 4   print_section     1566 non-null   object             \n",
      " 5   print_page        1566 non-null   float64            \n",
      " 6   source            2428 non-null   object             \n",
      " 7   multimedia        2428 non-null   object             \n",
      " 8   headline          2428 non-null   object             \n",
      " 9   keywords          2428 non-null   object             \n",
      " 10  pub_date          2428 non-null   datetime64[ns, UTC]\n",
      " 11  document_type     2428 non-null   object             \n",
      " 12  news_desk         2389 non-null   object             \n",
      " 13  section_name      2428 non-null   object             \n",
      " 14  byline            2428 non-null   object             \n",
      " 15  type_of_material  2428 non-null   object             \n",
      " 16  _id               2428 non-null   object             \n",
      " 17  word_count        2428 non-null   float64            \n",
      " 18  uri               2428 non-null   object             \n",
      " 19  subsection_name   598 non-null    object             \n",
      " 20  Organization      2428 non-null   object             \n",
      "dtypes: datetime64[ns, UTC](1), float64(2), object(18)\n",
      "memory usage: 398.5+ KB\n"
     ]
    }
   ],
   "source": [
    "total_df.info()"
   ]
  },
  {
   "cell_type": "code",
   "execution_count": 198,
   "id": "f4a9fdb7",
   "metadata": {},
   "outputs": [
    {
     "name": "stdout",
     "output_type": "stream",
     "text": [
      "abstract\n",
      "Pepe, Gaysper and other symbols teach us that tech companies need policies that adapt to a changing world.\n",
      "web_url\n",
      "https://www.nytimes.com/2019/12/24/opinion/pepe-frog-hate-speech.html\n",
      "snippet\n",
      "Pepe, Gaysper and other symbols teach us that tech companies need policies that adapt to a changing world.\n",
      "lead_paragraph\n",
      "The idea that platforms like Twitter, Facebook and Instagram should remove hate speech is relatively uncontroversial. But doing this isn’t easy. Hate speech is fluid, dependent on cultural context and social meaning. To manage it, platforms must constantly re-evaluate hateful symbols and communicate with users about their decision-making.\n",
      "print_section\n",
      "A\n",
      "print_page\n",
      "27.0\n",
      "source\n",
      "The New York Times\n",
      "multimedia\n",
      "[{'rank': 0, 'subtype': 'xlarge', 'caption': None, 'credit': None, 'type': 'image', 'url': 'images/2019/12/22/opinion/22Heller/merlin_161839566_0eb590c6-22f9-44a3-9679-1dcde6167668-articleLarge.jpg', 'height': 400, 'width': 600, 'legacy': {'xlarge': 'images/2019/12/22/opinion/22Heller/merlin_161839566_0eb590c6-22f9-44a3-9679-1dcde6167668-articleLarge.jpg', 'xlargewidth': 600, 'xlargeheight': 400}, 'subType': 'xlarge', 'crop_name': 'articleLarge'}, {'rank': 0, 'subtype': 'popup', 'caption': None, 'credit': None, 'type': 'image', 'url': 'images/2019/12/22/opinion/22Heller/merlin_161839566_0eb590c6-22f9-44a3-9679-1dcde6167668-popup.jpg', 'height': 433, 'width': 650, 'legacy': {}, 'subType': 'popup', 'crop_name': 'popup'}, {'rank': 0, 'subtype': 'blog480', 'caption': None, 'credit': None, 'type': 'image', 'url': 'images/2019/12/22/opinion/22Heller/merlin_161839566_0eb590c6-22f9-44a3-9679-1dcde6167668-blog480.jpg', 'height': 320, 'width': 480, 'legacy': {}, 'subType': 'blog480', 'crop_name': 'blog480'}, {'rank': 0, 'subtype': 'blog533', 'caption': None, 'credit': None, 'type': 'image', 'url': 'images/2019/12/22/opinion/22Heller/merlin_161839566_0eb590c6-22f9-44a3-9679-1dcde6167668-blog533.jpg', 'height': 355, 'width': 533, 'legacy': {}, 'subType': 'blog533', 'crop_name': 'blog533'}, {'rank': 0, 'subtype': 'blog427', 'caption': None, 'credit': None, 'type': 'image', 'url': 'images/2019/12/22/opinion/22Heller/merlin_161839566_0eb590c6-22f9-44a3-9679-1dcde6167668-blog427.jpg', 'height': 285, 'width': 427, 'legacy': {}, 'subType': 'blog427', 'crop_name': 'blog427'}, {'rank': 0, 'subtype': 'tmagSF', 'caption': None, 'credit': None, 'type': 'image', 'url': 'images/2019/12/22/opinion/22Heller/merlin_161839566_0eb590c6-22f9-44a3-9679-1dcde6167668-tmagSF.jpg', 'height': 241, 'width': 362, 'legacy': {}, 'subType': 'tmagSF', 'crop_name': 'tmagSF'}, {'rank': 0, 'subtype': 'tmagArticle', 'caption': None, 'credit': None, 'type': 'image', 'url': 'images/2019/12/22/opinion/22Heller/merlin_161839566_0eb590c6-22f9-44a3-9679-1dcde6167668-tmagArticle.jpg', 'height': 395, 'width': 592, 'legacy': {}, 'subType': 'tmagArticle', 'crop_name': 'tmagArticle'}, {'rank': 0, 'subtype': 'slide', 'caption': None, 'credit': None, 'type': 'image', 'url': 'images/2019/12/22/opinion/22Heller/merlin_161839566_0eb590c6-22f9-44a3-9679-1dcde6167668-slide.jpg', 'height': 400, 'width': 600, 'legacy': {}, 'subType': 'slide', 'crop_name': 'slide'}, {'rank': 0, 'subtype': 'jumbo', 'caption': None, 'credit': None, 'type': 'image', 'url': 'images/2019/12/22/opinion/22Heller/merlin_161839566_0eb590c6-22f9-44a3-9679-1dcde6167668-jumbo.jpg', 'height': 683, 'width': 1024, 'legacy': {}, 'subType': 'jumbo', 'crop_name': 'jumbo'}, {'rank': 0, 'subtype': 'superJumbo', 'caption': None, 'credit': None, 'type': 'image', 'url': 'images/2019/12/22/opinion/22Heller/merlin_161839566_0eb590c6-22f9-44a3-9679-1dcde6167668-superJumbo.jpg', 'height': 1365, 'width': 2048, 'legacy': {}, 'subType': 'superJumbo', 'crop_name': 'superJumbo'}, {'rank': 0, 'subtype': 'blog225', 'caption': None, 'credit': None, 'type': 'image', 'url': 'images/2019/12/22/opinion/22Heller/merlin_161839566_0eb590c6-22f9-44a3-9679-1dcde6167668-blog225.jpg', 'height': 150, 'width': 225, 'legacy': {}, 'subType': 'blog225', 'crop_name': 'blog225'}, {'rank': 0, 'subtype': 'master1050', 'caption': None, 'credit': None, 'type': 'image', 'url': 'images/2019/12/22/opinion/22Heller/merlin_161839566_0eb590c6-22f9-44a3-9679-1dcde6167668-master1050.jpg', 'height': 700, 'width': 1050, 'legacy': {}, 'subType': 'master1050', 'crop_name': 'master1050'}, {'rank': 0, 'subtype': 'master675', 'caption': None, 'credit': None, 'type': 'image', 'url': 'images/2019/12/22/opinion/22Heller/merlin_161839566_0eb590c6-22f9-44a3-9679-1dcde6167668-master675.jpg', 'height': 450, 'width': 675, 'legacy': {}, 'subType': 'master675', 'crop_name': 'master675'}, {'rank': 0, 'subtype': 'master495', 'caption': None, 'credit': None, 'type': 'image', 'url': 'images/2019/12/22/opinion/22Heller/merlin_161839566_0eb590c6-22f9-44a3-9679-1dcde6167668-master495.jpg', 'height': 330, 'width': 495, 'legacy': {}, 'subType': 'master495', 'crop_name': 'master495'}, {'rank': 0, 'subtype': 'master180', 'caption': None, 'credit': None, 'type': 'image', 'url': 'images/2019/12/22/opinion/22Heller/merlin_161839566_0eb590c6-22f9-44a3-9679-1dcde6167668-master180.jpg', 'height': 120, 'width': 180, 'legacy': {}, 'subType': 'master180', 'crop_name': 'master180'}, {'rank': 0, 'subtype': 'master315', 'caption': None, 'credit': None, 'type': 'image', 'url': 'images/2019/12/22/opinion/22Heller/merlin_161839566_0eb590c6-22f9-44a3-9679-1dcde6167668-master315.jpg', 'height': 210, 'width': 315, 'legacy': {}, 'subType': 'master315', 'crop_name': 'master315'}, {'rank': 0, 'subtype': 'master768', 'caption': None, 'credit': None, 'type': 'image', 'url': 'images/2019/12/22/opinion/22Heller/merlin_161839566_0eb590c6-22f9-44a3-9679-1dcde6167668-master768.jpg', 'height': 512, 'width': 768, 'legacy': {}, 'subType': 'master768', 'crop_name': 'master768'}, {'rank': 0, 'subtype': 'thumbnail', 'caption': None, 'credit': None, 'type': 'image', 'url': 'images/2019/12/22/opinion/22Heller/22Heller-thumbStandard.jpg', 'height': 75, 'width': 75, 'legacy': {'thumbnail': 'images/2019/12/22/opinion/22Heller/22Heller-thumbStandard.jpg', 'thumbnailwidth': 75, 'thumbnailheight': 75}, 'subType': 'thumbnail', 'crop_name': 'thumbStandard'}, {'rank': 0, 'subtype': 'blogSmallThumb', 'caption': None, 'credit': None, 'type': 'image', 'url': 'images/2019/12/22/opinion/22Heller/22Heller-blogSmallThumb.jpg', 'height': 50, 'width': 50, 'legacy': {}, 'subType': 'blogSmallThumb', 'crop_name': 'blogSmallThumb'}, {'rank': 0, 'subtype': 'thumbLarge', 'caption': None, 'credit': None, 'type': 'image', 'url': 'images/2019/12/22/opinion/22Heller/22Heller-thumbLarge.jpg', 'height': 150, 'width': 150, 'legacy': {}, 'subType': 'thumbLarge', 'crop_name': 'thumbLarge'}, {'rank': 0, 'subtype': 'smallSquare168', 'caption': None, 'credit': None, 'type': 'image', 'url': 'images/2019/12/22/opinion/22Heller/22Heller-smallSquare168.jpg', 'height': 168, 'width': 168, 'legacy': {}, 'subType': 'smallSquare168', 'crop_name': 'smallSquare168'}, {'rank': 0, 'subtype': 'smallSquare252', 'caption': None, 'credit': None, 'type': 'image', 'url': 'images/2019/12/22/opinion/22Heller/22Heller-smallSquare252.jpg', 'height': 252, 'width': 252, 'legacy': {}, 'subType': 'smallSquare252', 'crop_name': 'smallSquare252'}, {'rank': 0, 'subtype': 'square320', 'caption': None, 'credit': None, 'type': 'image', 'url': 'images/2019/12/22/opinion/22Heller/22Heller-square320.jpg', 'height': 320, 'width': 320, 'legacy': {}, 'subType': 'square320', 'crop_name': 'square320'}, {'rank': 0, 'subtype': 'moth', 'caption': None, 'credit': None, 'type': 'image', 'url': 'images/2019/12/22/opinion/22Heller/22Heller-moth.jpg', 'height': 151, 'width': 151, 'legacy': {}, 'subType': 'moth', 'crop_name': 'moth'}, {'rank': 0, 'subtype': 'filmstrip', 'caption': None, 'credit': None, 'type': 'image', 'url': 'images/2019/12/22/opinion/22Heller/22Heller-filmstrip.jpg', 'height': 190, 'width': 190, 'legacy': {}, 'subType': 'filmstrip', 'crop_name': 'filmstrip'}, {'rank': 0, 'subtype': 'square640', 'caption': None, 'credit': None, 'type': 'image', 'url': 'images/2019/12/22/opinion/22Heller/22Heller-square640.jpg', 'height': 640, 'width': 640, 'legacy': {}, 'subType': 'square640', 'crop_name': 'square640'}, {'rank': 0, 'subtype': 'mediumSquare149', 'caption': None, 'credit': None, 'type': 'image', 'url': 'images/2019/12/22/opinion/22Heller/22Heller-mediumSquare149.jpg', 'height': 149, 'width': 149, 'legacy': {}, 'subType': 'mediumSquare149', 'crop_name': 'mediumSquare149'}, {'rank': 0, 'subtype': 'sfSpan', 'caption': None, 'credit': None, 'type': 'image', 'url': 'images/2019/12/22/opinion/22Heller/merlin_161839566_0eb590c6-22f9-44a3-9679-1dcde6167668-sfSpan.jpg', 'height': 263, 'width': 395, 'legacy': {}, 'subType': 'sfSpan', 'crop_name': 'sfSpan'}, {'rank': 0, 'subtype': 'largeHorizontal375', 'caption': None, 'credit': None, 'type': 'image', 'url': 'images/2019/12/22/opinion/22Heller/merlin_161839566_0eb590c6-22f9-44a3-9679-1dcde6167668-largeHorizontal375.jpg', 'height': 250, 'width': 375, 'legacy': {}, 'subType': 'largeHorizontal375', 'crop_name': 'largeHorizontal375'}, {'rank': 0, 'subtype': 'largeHorizontalJumbo', 'caption': None, 'credit': None, 'type': 'image', 'url': 'images/2019/12/22/opinion/22Heller/merlin_161839566_0eb590c6-22f9-44a3-9679-1dcde6167668-largeHorizontalJumbo.jpg', 'height': 683, 'width': 1024, 'legacy': {}, 'subType': 'largeHorizontalJumbo', 'crop_name': 'largeHorizontalJumbo'}, {'rank': 0, 'subtype': 'horizontalMediumAt2X', 'caption': None, 'credit': None, 'type': 'image', 'url': 'images/2019/12/22/opinion/22Heller/merlin_161839566_0eb590c6-22f9-44a3-9679-1dcde6167668-horizontalMediumAt2X.jpg', 'height': 2730, 'width': 4095, 'legacy': {}, 'subType': 'horizontalMediumAt2X', 'crop_name': 'horizontalMediumAt2X'}, {'rank': 0, 'subtype': 'hpLarge', 'caption': None, 'credit': None, 'type': 'image', 'url': 'images/2019/12/22/opinion/22Heller/22Heller-hpLarge.jpg', 'height': 287, 'width': 511, 'legacy': {}, 'subType': 'hpLarge', 'crop_name': 'hpLarge'}, {'rank': 0, 'subtype': 'largeWidescreen573', 'caption': None, 'credit': None, 'type': 'image', 'url': 'images/2019/12/22/opinion/22Heller/22Heller-largeWidescreen573.jpg', 'height': 322, 'width': 573, 'legacy': {}, 'subType': 'largeWidescreen573', 'crop_name': 'largeWidescreen573'}, {'rank': 0, 'subtype': 'largeWidescreen1050', 'caption': None, 'credit': None, 'type': 'image', 'url': 'images/2019/12/22/opinion/22Heller/22Heller-largeWidescreen1050.jpg', 'height': 590, 'width': 1050, 'legacy': {}, 'subType': 'largeWidescreen1050', 'crop_name': 'largeWidescreen1050'}, {'rank': 0, 'subtype': 'wide', 'caption': None, 'credit': None, 'type': 'image', 'url': 'images/2019/12/22/opinion/22Heller/merlin_161839566_0eb590c6-22f9-44a3-9679-1dcde6167668-thumbWide.jpg', 'height': 126, 'width': 190, 'legacy': {'widewidth': 190, 'wideheight': 126, 'wide': 'images/2019/12/22/opinion/22Heller/merlin_161839566_0eb590c6-22f9-44a3-9679-1dcde6167668-thumbWide.jpg'}, 'subType': 'wide', 'crop_name': 'thumbWide'}, {'rank': 0, 'subtype': 'videoThumb', 'caption': None, 'credit': None, 'type': 'image', 'url': 'images/2019/12/22/opinion/22Heller/merlin_161839566_0eb590c6-22f9-44a3-9679-1dcde6167668-videoThumb.jpg', 'height': 50, 'width': 75, 'legacy': {}, 'subType': 'videoThumb', 'crop_name': 'videoThumb'}, {'rank': 0, 'subtype': 'videoLarge', 'caption': None, 'credit': None, 'type': 'image', 'url': 'images/2019/12/22/opinion/22Heller/merlin_161839566_0eb590c6-22f9-44a3-9679-1dcde6167668-videoLarge.jpg', 'height': 507, 'width': 768, 'legacy': {}, 'subType': 'videoLarge', 'crop_name': 'videoLarge'}, {'rank': 0, 'subtype': 'mediumThreeByTwo210', 'caption': None, 'credit': None, 'type': 'image', 'url': 'images/2019/12/22/opinion/22Heller/merlin_161839566_0eb590c6-22f9-44a3-9679-1dcde6167668-mediumThreeByTwo210.jpg', 'height': 140, 'width': 210, 'legacy': {}, 'subType': 'mediumThreeByTwo210', 'crop_name': 'mediumThreeByTwo210'}, {'rank': 0, 'subtype': 'mediumThreeByTwo225', 'caption': None, 'credit': None, 'type': 'image', 'url': 'images/2019/12/22/opinion/22Heller/merlin_161839566_0eb590c6-22f9-44a3-9679-1dcde6167668-mediumThreeByTwo225.jpg', 'height': 150, 'width': 225, 'legacy': {}, 'subType': 'mediumThreeByTwo225', 'crop_name': 'mediumThreeByTwo225'}, {'rank': 0, 'subtype': 'mediumThreeByTwo440', 'caption': None, 'credit': None, 'type': 'image', 'url': 'images/2019/12/22/opinion/22Heller/merlin_161839566_0eb590c6-22f9-44a3-9679-1dcde6167668-mediumThreeByTwo440.jpg', 'height': 293, 'width': 440, 'legacy': {}, 'subType': 'mediumThreeByTwo440', 'crop_name': 'mediumThreeByTwo440'}, {'rank': 0, 'subtype': 'mediumThreeByTwo252', 'caption': None, 'credit': None, 'type': 'image', 'url': 'images/2019/12/22/opinion/22Heller/merlin_161839566_0eb590c6-22f9-44a3-9679-1dcde6167668-mediumThreeByTwo252.jpg', 'height': 168, 'width': 252, 'legacy': {}, 'subType': 'mediumThreeByTwo252', 'crop_name': 'mediumThreeByTwo252'}, {'rank': 0, 'subtype': 'mediumThreeByTwo378', 'caption': None, 'credit': None, 'type': 'image', 'url': 'images/2019/12/22/opinion/22Heller/merlin_161839566_0eb590c6-22f9-44a3-9679-1dcde6167668-mediumThreeByTwo378.jpg', 'height': 252, 'width': 378, 'legacy': {}, 'subType': 'mediumThreeByTwo378', 'crop_name': 'mediumThreeByTwo378'}, {'rank': 0, 'subtype': 'threeByTwoLargeAt2X', 'caption': None, 'credit': None, 'type': 'image', 'url': 'images/2019/12/22/opinion/22Heller/merlin_161839566_0eb590c6-22f9-44a3-9679-1dcde6167668-threeByTwoLargeAt2X.jpg', 'height': 2730, 'width': 4095, 'legacy': {}, 'subType': 'threeByTwoLargeAt2X', 'crop_name': 'threeByTwoLargeAt2X'}, {'rank': 0, 'subtype': 'threeByTwoMediumAt2X', 'caption': None, 'credit': None, 'type': 'image', 'url': 'images/2019/12/22/opinion/22Heller/merlin_161839566_0eb590c6-22f9-44a3-9679-1dcde6167668-threeByTwoMediumAt2X.jpg', 'height': 1000, 'width': 1500, 'legacy': {}, 'subType': 'threeByTwoMediumAt2X', 'crop_name': 'threeByTwoMediumAt2X'}, {'rank': 0, 'subtype': 'threeByTwoSmallAt2X', 'caption': None, 'credit': None, 'type': 'image', 'url': 'images/2019/12/22/opinion/22Heller/merlin_161839566_0eb590c6-22f9-44a3-9679-1dcde6167668-threeByTwoSmallAt2X.jpg', 'height': 400, 'width': 600, 'legacy': {}, 'subType': 'threeByTwoSmallAt2X', 'crop_name': 'threeByTwoSmallAt2X'}, {'rank': 0, 'subtype': 'articleInline', 'caption': None, 'credit': None, 'type': 'image', 'url': 'images/2019/12/22/opinion/22Heller/merlin_161839566_0eb590c6-22f9-44a3-9679-1dcde6167668-articleInline.jpg', 'height': 127, 'width': 190, 'legacy': {}, 'subType': 'articleInline', 'crop_name': 'articleInline'}, {'rank': 0, 'subtype': 'hpSmall', 'caption': None, 'credit': None, 'type': 'image', 'url': 'images/2019/12/22/opinion/22Heller/merlin_161839566_0eb590c6-22f9-44a3-9679-1dcde6167668-hpSmall.jpg', 'height': 109, 'width': 163, 'legacy': {}, 'subType': 'hpSmall', 'crop_name': 'hpSmall'}, {'rank': 0, 'subtype': 'blogSmallInline', 'caption': None, 'credit': None, 'type': 'image', 'url': 'images/2019/12/22/opinion/22Heller/merlin_161839566_0eb590c6-22f9-44a3-9679-1dcde6167668-blogSmallInline.jpg', 'height': 101, 'width': 151, 'legacy': {}, 'subType': 'blogSmallInline', 'crop_name': 'blogSmallInline'}, {'rank': 0, 'subtype': 'mediumFlexible177', 'caption': None, 'credit': None, 'type': 'image', 'url': 'images/2019/12/22/opinion/22Heller/merlin_161839566_0eb590c6-22f9-44a3-9679-1dcde6167668-mediumFlexible177.jpg', 'height': 118, 'width': 177, 'legacy': {}, 'subType': 'mediumFlexible177', 'crop_name': 'mediumFlexible177'}, {'rank': 0, 'subtype': 'videoSmall', 'caption': None, 'credit': None, 'type': 'image', 'url': 'images/2019/12/22/opinion/22Heller/22Heller-videoSmall.jpg', 'height': 281, 'width': 500, 'legacy': {}, 'subType': 'videoSmall', 'crop_name': 'videoSmall'}, {'rank': 0, 'subtype': 'videoHpMedium', 'caption': None, 'credit': None, 'type': 'image', 'url': 'images/2019/12/22/opinion/22Heller/22Heller-videoHpMedium.jpg', 'height': 211, 'width': 375, 'legacy': {}, 'subType': 'videoHpMedium', 'crop_name': 'videoHpMedium'}, {'rank': 0, 'subtype': 'videoSixteenByNine600', 'caption': None, 'credit': None, 'type': 'image', 'url': 'images/2019/12/22/opinion/22Heller/22Heller-videoSixteenByNine600.jpg', 'height': 338, 'width': 600, 'legacy': {}, 'subType': 'videoSixteenByNine600', 'crop_name': 'videoSixteenByNine600'}, {'rank': 0, 'subtype': 'videoSixteenByNine540', 'caption': None, 'credit': None, 'type': 'image', 'url': 'images/2019/12/22/opinion/22Heller/22Heller-videoSixteenByNine540.jpg', 'height': 304, 'width': 540, 'legacy': {}, 'subType': 'videoSixteenByNine540', 'crop_name': 'videoSixteenByNine540'}, {'rank': 0, 'subtype': 'videoSixteenByNine495', 'caption': None, 'credit': None, 'type': 'image', 'url': 'images/2019/12/22/opinion/22Heller/22Heller-videoSixteenByNine495.jpg', 'height': 278, 'width': 495, 'legacy': {}, 'subType': 'videoSixteenByNine495', 'crop_name': 'videoSixteenByNine495'}, {'rank': 0, 'subtype': 'videoSixteenByNine390', 'caption': None, 'credit': None, 'type': 'image', 'url': 'images/2019/12/22/opinion/22Heller/22Heller-videoSixteenByNine390.jpg', 'height': 219, 'width': 390, 'legacy': {}, 'subType': 'videoSixteenByNine390', 'crop_name': 'videoSixteenByNine390'}, {'rank': 0, 'subtype': 'videoSixteenByNine1050', 'caption': None, 'credit': None, 'type': 'image', 'url': 'images/2019/12/22/opinion/22Heller/22Heller-videoSixteenByNine1050.jpg', 'height': 591, 'width': 1050, 'legacy': {}, 'subType': 'videoSixteenByNine1050', 'crop_name': 'videoSixteenByNine1050'}, {'rank': 0, 'subtype': 'videoSixteenByNine480', 'caption': None, 'credit': None, 'type': 'image', 'url': 'images/2019/12/22/opinion/22Heller/22Heller-videoSixteenByNine480.jpg', 'height': 270, 'width': 480, 'legacy': {}, 'subType': 'videoSixteenByNine480', 'crop_name': 'videoSixteenByNine480'}, {'rank': 0, 'subtype': 'videoSixteenByNine310', 'caption': None, 'credit': None, 'type': 'image', 'url': 'images/2019/12/22/opinion/22Heller/22Heller-videoSixteenByNine310.jpg', 'height': 174, 'width': 310, 'legacy': {}, 'subType': 'videoSixteenByNine310', 'crop_name': 'videoSixteenByNine310'}, {'rank': 0, 'subtype': 'videoSixteenByNine225', 'caption': None, 'credit': None, 'type': 'image', 'url': 'images/2019/12/22/opinion/22Heller/22Heller-videoSixteenByNine225.jpg', 'height': 126, 'width': 225, 'legacy': {}, 'subType': 'videoSixteenByNine225', 'crop_name': 'videoSixteenByNine225'}, {'rank': 0, 'subtype': 'videoSixteenByNine96', 'caption': None, 'credit': None, 'type': 'image', 'url': 'images/2019/12/22/opinion/22Heller/22Heller-videoSixteenByNine96.jpg', 'height': 54, 'width': 96, 'legacy': {}, 'subType': 'videoSixteenByNine96', 'crop_name': 'videoSixteenByNine96'}, {'rank': 0, 'subtype': 'videoSixteenByNine3000', 'caption': None, 'credit': None, 'type': 'image', 'url': 'images/2019/12/22/opinion/22Heller/22Heller-videoSixteenByNine3000.jpg', 'height': 1687, 'width': 3000, 'legacy': {}, 'subType': 'videoSixteenByNine3000', 'crop_name': 'videoSixteenByNine3000'}, {'rank': 0, 'subtype': 'videoSixteenByNine768', 'caption': None, 'credit': None, 'type': 'image', 'url': 'images/2019/12/22/opinion/22Heller/22Heller-videoSixteenByNine768.jpg', 'height': 432, 'width': 768, 'legacy': {}, 'subType': 'videoSixteenByNine768', 'crop_name': 'videoSixteenByNine768'}, {'rank': 0, 'subtype': 'videoSixteenByNine150', 'caption': None, 'credit': None, 'type': 'image', 'url': 'images/2019/12/22/opinion/22Heller/22Heller-videoSixteenByNine150.jpg', 'height': 84, 'width': 150, 'legacy': {}, 'subType': 'videoSixteenByNine150', 'crop_name': 'videoSixteenByNine150'}, {'rank': 0, 'subtype': 'videoSixteenByNineJumbo1600', 'caption': None, 'credit': None, 'type': 'image', 'url': 'images/2019/12/22/opinion/22Heller/22Heller-videoSixteenByNineJumbo1600.jpg', 'height': 900, 'width': 1600, 'legacy': {}, 'subType': 'videoSixteenByNineJumbo1600', 'crop_name': 'videoSixteenByNineJumbo1600'}, {'rank': 0, 'subtype': 'miniMoth', 'caption': None, 'credit': None, 'type': 'image', 'url': 'images/2019/12/22/opinion/22Heller/22Heller-miniMoth.jpg', 'height': 70, 'width': 151, 'legacy': {}, 'subType': 'miniMoth', 'crop_name': 'miniMoth'}, {'rank': 0, 'subtype': 'windowsTile336H', 'caption': None, 'credit': None, 'type': 'image', 'url': 'images/2019/12/22/opinion/22Heller/22Heller-windowsTile336H.jpg', 'height': 336, 'width': 694, 'legacy': {}, 'subType': 'windowsTile336H', 'crop_name': 'windowsTile336H'}, {'rank': 0, 'subtype': 'videoFifteenBySeven1305', 'caption': None, 'credit': None, 'type': 'image', 'url': 'images/2019/12/22/opinion/22Heller/22Heller-videoFifteenBySeven1305.jpg', 'height': 609, 'width': 1305, 'legacy': {}, 'subType': 'videoFifteenBySeven1305', 'crop_name': 'videoFifteenBySeven1305'}, {'rank': 0, 'subtype': 'videoFifteenBySeven2610', 'caption': None, 'credit': None, 'type': 'image', 'url': 'images/2019/12/22/opinion/22Heller/22Heller-videoFifteenBySeven2610.jpg', 'height': 1218, 'width': 2610, 'legacy': {}, 'subType': 'videoFifteenBySeven2610', 'crop_name': 'videoFifteenBySeven2610'}, {'rank': 0, 'subtype': 'facebookJumbo', 'caption': None, 'credit': None, 'type': 'image', 'url': 'images/2019/12/22/opinion/22Heller/22Heller-facebookJumbo.jpg', 'height': 549, 'width': 1050, 'legacy': {}, 'subType': 'facebookJumbo', 'crop_name': 'facebookJumbo'}, {'rank': 0, 'subtype': 'watch308', 'caption': None, 'credit': None, 'type': 'image', 'url': 'images/2019/12/22/opinion/22Heller/22Heller-watch308.jpg', 'height': 348, 'width': 312, 'legacy': {}, 'subType': 'watch308', 'crop_name': 'watch308'}, {'rank': 0, 'subtype': 'watch268', 'caption': None, 'credit': None, 'type': 'image', 'url': 'images/2019/12/22/opinion/22Heller/22Heller-watch268.jpg', 'height': 303, 'width': 272, 'legacy': {}, 'subType': 'watch268', 'crop_name': 'watch268'}, {'rank': 0, 'subtype': 'verticalTwoByThree735', 'caption': None, 'credit': None, 'type': 'image', 'url': 'images/2019/12/22/opinion/22Heller/22Heller-verticalTwoByThree735.jpg', 'height': 1103, 'width': 735, 'legacy': {}, 'subType': 'verticalTwoByThree735', 'crop_name': 'verticalTwoByThree735'}, {'rank': 0, 'subtype': 'mobileMasterAt3x', 'caption': None, 'credit': None, 'type': 'image', 'url': 'images/2019/12/22/opinion/22Heller/merlin_161839566_0eb590c6-22f9-44a3-9679-1dcde6167668-mobileMasterAt3x.jpg', 'height': 1200, 'width': 1800, 'legacy': {}, 'subType': 'mobileMasterAt3x', 'crop_name': 'mobileMasterAt3x'}]\n",
      "headline\n",
      "{'main': 'Is This Frog a Hate Symbol or Not?', 'kicker': None, 'content_kicker': None, 'print_headline': 'Teaching  An Old Frog  New Tricks', 'name': None, 'seo': None, 'sub': None}\n",
      "keywords\n",
      "[{'name': 'subject', 'value': 'Social Media', 'rank': 1, 'major': 'N'}, {'name': 'subject', 'value': 'Discrimination', 'rank': 2, 'major': 'N'}, {'name': 'subject', 'value': 'Computers and the Internet', 'rank': 3, 'major': 'N'}, {'name': 'subject', 'value': 'Anti-Semitism', 'rank': 4, 'major': 'N'}, {'name': 'subject', 'value': 'Hong Kong Protests (2019)', 'rank': 5, 'major': 'N'}, {'name': 'subject', 'value': 'Human Rights and Human Rights Violations', 'rank': 6, 'major': 'N'}, {'name': 'organizations', 'value': 'Twitter', 'rank': 7, 'major': 'N'}, {'name': 'organizations', 'value': 'Facebook Inc', 'rank': 8, 'major': 'N'}, {'name': 'glocations', 'value': 'United States', 'rank': 9, 'major': 'N'}, {'name': 'glocations', 'value': 'Hong Kong', 'rank': 10, 'major': 'N'}, {'name': 'glocations', 'value': 'Spain', 'rank': 11, 'major': 'N'}]\n",
      "pub_date\n",
      "2019-12-25 00:00:04+00:00\n",
      "document_type\n",
      "article\n",
      "news_desk\n",
      "OpEd\n",
      "section_name\n",
      "Opinion\n",
      "byline\n",
      "{'original': 'By Brittan Heller', 'person': [{'firstname': 'Brittan', 'middlename': None, 'lastname': 'Heller', 'qualifier': None, 'title': None, 'role': 'reported', 'organization': '', 'rank': 1}], 'organization': None}\n",
      "type_of_material\n",
      "Op-Ed\n",
      "_id\n",
      "nyt://article/000862dd-1eda-5010-b16c-786972625280\n",
      "word_count\n",
      "945.0\n",
      "uri\n",
      "nyt://article/000862dd-1eda-5010-b16c-786972625280\n",
      "subsection_name\n",
      "nan\n",
      "Organization\n",
      "Facebook Inc\n"
     ]
    }
   ],
   "source": [
    "for key, value in total_df.loc[0].iteritems():\n",
    "    print(key)\n",
    "    print(value)"
   ]
  },
  {
   "cell_type": "code",
   "execution_count": 210,
   "id": "e1c0b21b",
   "metadata": {},
   "outputs": [
    {
     "data": {
      "text/html": [
       "<div>\n",
       "<style scoped>\n",
       "    .dataframe tbody tr th:only-of-type {\n",
       "        vertical-align: middle;\n",
       "    }\n",
       "\n",
       "    .dataframe tbody tr th {\n",
       "        vertical-align: top;\n",
       "    }\n",
       "\n",
       "    .dataframe thead th {\n",
       "        text-align: right;\n",
       "    }\n",
       "</style>\n",
       "<table border=\"1\" class=\"dataframe\">\n",
       "  <thead>\n",
       "    <tr style=\"text-align: right;\">\n",
       "      <th></th>\n",
       "      <th>abstract</th>\n",
       "      <th>lead_paragraph</th>\n",
       "      <th>Organization</th>\n",
       "      <th>type_of_material</th>\n",
       "    </tr>\n",
       "  </thead>\n",
       "  <tbody>\n",
       "    <tr>\n",
       "      <th>0</th>\n",
       "      <td>Pepe, Gaysper and other symbols teach us that tech companies need policies that adapt to a changing world.</td>\n",
       "      <td>The idea that platforms like Twitter, Facebook and Instagram should remove hate speech is relatively uncontroversial. But doing this isn’t easy. Hate speech is fluid, dependent on cultural context and social meaning. To manage it, platforms must constantly re-evaluate hateful symbols and communicate with users about their decision-making.</td>\n",
       "      <td>Facebook Inc</td>\n",
       "      <td>Op-Ed</td>\n",
       "    </tr>\n",
       "    <tr>\n",
       "      <th>1</th>\n",
       "      <td>China’s WeChat messaging app offers clues as to how Facebook may carry out its shift toward private messaging. But whether Facebook can pull the change off is another question.</td>\n",
       "      <td>SAN FRANCISCO — As Mark Zuckerberg begins shifting Facebook to private messaging and away from public sharing and open conversations, the vision he has sketched out for the future of social networking already exists — just not in the United States.</td>\n",
       "      <td>Facebook Inc</td>\n",
       "      <td>News</td>\n",
       "    </tr>\n",
       "    <tr>\n",
       "      <th>2</th>\n",
       "      <td>In leaked audio, Mark Zuckerberg said he would sue over Elizabeth Warren’s antitrust plan if she was elected president. She shot back.</td>\n",
       "      <td>For months, Senator Elizabeth Warren of Massachusetts has made “big, structural change,” the rallying cry of her presidential campaign. And when it comes to the tech sector, that has meant taking square aim at giant companies like Facebook — companies she says have become so large that they are stifling competition.</td>\n",
       "      <td>Facebook Inc</td>\n",
       "      <td>News</td>\n",
       "    </tr>\n",
       "    <tr>\n",
       "      <th>3</th>\n",
       "      <td>The move of entrepreneurs, engineers and venture investors away from the consumer internet and to enterprise software has piqued regulator interest.</td>\n",
       "      <td>When Rajiv Ayyangar and two other Yahoo alumni explored start-up ideas, they experimented with concepts directed at the public, like a personal finance app. But making money from consumers was too daunting, they concluded, partly because of the tight grip that digital giants like Google and Apple had over distribution.</td>\n",
       "      <td>Facebook Inc</td>\n",
       "      <td>News</td>\n",
       "    </tr>\n",
       "    <tr>\n",
       "      <th>4</th>\n",
       "      <td>Last month, the social media company would not remove a doctored video of Speaker Nancy Pelosi. Facebook said the video of Mr. Zuckerberg will get the same treatment.</td>\n",
       "      <td>SAN FRANCISCO — Two weeks ago, Facebook declined to remove a doctored video in which the speaker of the House, Nancy Pelosi, seemed to drunkenly slur her speech. Over the weekend, two British artists released a doctored video of Facebook’s chief executive, Mark Zuckerberg, as a sly comment on the spread of false information online.</td>\n",
       "      <td>Facebook Inc</td>\n",
       "      <td>News</td>\n",
       "    </tr>\n",
       "    <tr>\n",
       "      <th>...</th>\n",
       "      <td>...</td>\n",
       "      <td>...</td>\n",
       "      <td>...</td>\n",
       "      <td>...</td>\n",
       "    </tr>\n",
       "    <tr>\n",
       "      <th>1299</th>\n",
       "      <td>Our reporter takes you inside the weird, wild, low-wage world of Mechanical Turk.</td>\n",
       "      <td>Our reporter takes you inside the weird, wild, low-wage world of Mechanical Turk.</td>\n",
       "      <td>Amazon.com Inc</td>\n",
       "      <td>Interactive Feature</td>\n",
       "    </tr>\n",
       "    <tr>\n",
       "      <th>1300</th>\n",
       "      <td>I pulled back the curtain on digital tracking. What I found was staggering.</td>\n",
       "      <td>I pulled back the curtain on digital tracking. What I found was staggering.</td>\n",
       "      <td>Amazon.com Inc</td>\n",
       "      <td>Interactive Feature</td>\n",
       "    </tr>\n",
       "    <tr>\n",
       "      <th>1301</th>\n",
       "      <td>Companies have said for decades that we should be in charge of our data. Why now, more than ever, does it seem like we aren’t?</td>\n",
       "      <td>Companies have said for decades that we should be in charge of our data. Why now, more than ever, does it seem like we aren’t?</td>\n",
       "      <td>Amazon.com Inc</td>\n",
       "      <td>Interactive Feature</td>\n",
       "    </tr>\n",
       "    <tr>\n",
       "      <th>1302</th>\n",
       "      <td>We claim to want it, companies claim to provide it, but we all just accept that, well, you have no privacy online.</td>\n",
       "      <td>We claim to want it, companies claim to provide it, but we all just accept that, well, you have no privacy online.</td>\n",
       "      <td>Amazon.com Inc</td>\n",
       "      <td>Interactive Feature</td>\n",
       "    </tr>\n",
       "    <tr>\n",
       "      <th>1303</th>\n",
       "      <td>After community backlash, Amazon has decided not to move forward with its plan to open a headquarters in Long Island City, Queens. Here’s a look at what happened.</td>\n",
       "      <td>After community backlash, Amazon has decided not to move forward with its plan to open a headquarters in Long Island City, Queens. Here’s a look at what happened.</td>\n",
       "      <td>Amazon.com Inc</td>\n",
       "      <td>Video</td>\n",
       "    </tr>\n",
       "  </tbody>\n",
       "</table>\n",
       "<p>1304 rows × 4 columns</p>\n",
       "</div>"
      ],
      "text/plain": [
       "                                                                                                                                                                              abstract  \\\n",
       "0                                                                           Pepe, Gaysper and other symbols teach us that tech companies need policies that adapt to a changing world.   \n",
       "1     China’s WeChat messaging app offers clues as to how Facebook may carry out its shift toward private messaging. But whether Facebook can pull the change off is another question.   \n",
       "2                                               In leaked audio, Mark Zuckerberg said he would sue over Elizabeth Warren’s antitrust plan if she was elected president. She shot back.   \n",
       "3                                 The move of entrepreneurs, engineers and venture investors away from the consumer internet and to enterprise software has piqued regulator interest.   \n",
       "4               Last month, the social media company would not remove a doctored video of Speaker Nancy Pelosi. Facebook said the video of Mr. Zuckerberg will get the same treatment.   \n",
       "...                                                                                                                                                                                ...   \n",
       "1299                                                                                                 Our reporter takes you inside the weird, wild, low-wage world of Mechanical Turk.   \n",
       "1300                                                                                                       I pulled back the curtain on digital tracking. What I found was staggering.   \n",
       "1301                                                    Companies have said for decades that we should be in charge of our data. Why now, more than ever, does it seem like we aren’t?   \n",
       "1302                                                                We claim to want it, companies claim to provide it, but we all just accept that, well, you have no privacy online.   \n",
       "1303                After community backlash, Amazon has decided not to move forward with its plan to open a headquarters in Long Island City, Queens. Here’s a look at what happened.   \n",
       "\n",
       "                                                                                                                                                                                                                                                                                                                                            lead_paragraph  \\\n",
       "0     The idea that platforms like Twitter, Facebook and Instagram should remove hate speech is relatively uncontroversial. But doing this isn’t easy. Hate speech is fluid, dependent on cultural context and social meaning. To manage it, platforms must constantly re-evaluate hateful symbols and communicate with users about their decision-making.   \n",
       "1                                                                                                 SAN FRANCISCO — As Mark Zuckerberg begins shifting Facebook to private messaging and away from public sharing and open conversations, the vision he has sketched out for the future of social networking already exists — just not in the United States.   \n",
       "2                            For months, Senator Elizabeth Warren of Massachusetts has made “big, structural change,” the rallying cry of her presidential campaign. And when it comes to the tech sector, that has meant taking square aim at giant companies like Facebook — companies she says have become so large that they are stifling competition.   \n",
       "3                         When Rajiv Ayyangar and two other Yahoo alumni explored start-up ideas, they experimented with concepts directed at the public, like a personal finance app. But making money from consumers was too daunting, they concluded, partly because of the tight grip that digital giants like Google and Apple had over distribution.   \n",
       "4            SAN FRANCISCO — Two weeks ago, Facebook declined to remove a doctored video in which the speaker of the House, Nancy Pelosi, seemed to drunkenly slur her speech. Over the weekend, two British artists released a doctored video of Facebook’s chief executive, Mark Zuckerberg, as a sly comment on the spread of false information online.   \n",
       "...                                                                                                                                                                                                                                                                                                                                                    ...   \n",
       "1299                                                                                                                                                                                                                                                                     Our reporter takes you inside the weird, wild, low-wage world of Mechanical Turk.   \n",
       "1300                                                                                                                                                                                                                                                                           I pulled back the curtain on digital tracking. What I found was staggering.   \n",
       "1301                                                                                                                                                                                                                        Companies have said for decades that we should be in charge of our data. Why now, more than ever, does it seem like we aren’t?   \n",
       "1302                                                                                                                                                                                                                                    We claim to want it, companies claim to provide it, but we all just accept that, well, you have no privacy online.   \n",
       "1303                                                                                                                                                                                    After community backlash, Amazon has decided not to move forward with its plan to open a headquarters in Long Island City, Queens. Here’s a look at what happened.   \n",
       "\n",
       "        Organization     type_of_material  \n",
       "0       Facebook Inc                Op-Ed  \n",
       "1       Facebook Inc                 News  \n",
       "2       Facebook Inc                 News  \n",
       "3       Facebook Inc                 News  \n",
       "4       Facebook Inc                 News  \n",
       "...              ...                  ...  \n",
       "1299  Amazon.com Inc  Interactive Feature  \n",
       "1300  Amazon.com Inc  Interactive Feature  \n",
       "1301  Amazon.com Inc  Interactive Feature  \n",
       "1302  Amazon.com Inc  Interactive Feature  \n",
       "1303  Amazon.com Inc                Video  \n",
       "\n",
       "[1304 rows x 4 columns]"
      ]
     },
     "execution_count": 210,
     "metadata": {},
     "output_type": "execute_result"
    }
   ],
   "source": [
    "total_df[[\"abstract\", \"lead_paragraph\", \"Organization\", \"type_of_material\"]]"
   ]
  },
  {
   "cell_type": "code",
   "execution_count": 226,
   "id": "8c29c79e",
   "metadata": {},
   "outputs": [
    {
     "data": {
      "text/plain": [
       "0      2019-12-25 00:00:04+00:00\n",
       "1      2019-03-08 00:00:40+00:00\n",
       "2      2019-10-01 16:55:11+00:00\n",
       "3      2019-11-22 08:00:03+00:00\n",
       "4      2019-06-11 23:00:33+00:00\n",
       "                  ...           \n",
       "1299   2019-11-15 10:00:02+00:00\n",
       "1300   2019-08-23 09:57:18+00:00\n",
       "1301   2019-04-11 00:46:49+00:00\n",
       "1302   2019-04-11 00:54:31+00:00\n",
       "1303   2019-02-15 02:00:03+00:00\n",
       "Name: pub_date, Length: 1304, dtype: datetime64[ns, UTC]"
      ]
     },
     "execution_count": 226,
     "metadata": {},
     "output_type": "execute_result"
    }
   ],
   "source": [
    "# utc time\n",
    "total_df[\"pub_date\"]"
   ]
  },
  {
   "cell_type": "code",
   "execution_count": 190,
   "id": "8256333a",
   "metadata": {},
   "outputs": [
    {
     "data": {
      "text/plain": [
       "Facebook Inc        524\n",
       "Amazon.com Inc      385\n",
       "Apple Inc           234\n",
       "Tesla Motors Inc     66\n",
       "Microsoft Corp       56\n",
       "Alphabet Inc         39\n",
       "Name: Organization, dtype: int64"
      ]
     },
     "execution_count": 190,
     "metadata": {},
     "output_type": "execute_result"
    }
   ],
   "source": [
    "total_df[\"Organization\"].value_counts()"
   ]
  },
  {
   "cell_type": "code",
   "execution_count": 222,
   "id": "cc4c8d6e",
   "metadata": {},
   "outputs": [
    {
     "data": {
      "text/plain": [
       "article       1263\n",
       "multimedia      39\n",
       "paidpost         2\n",
       "Name: document_type, dtype: int64"
      ]
     },
     "execution_count": 222,
     "metadata": {},
     "output_type": "execute_result"
    }
   ],
   "source": [
    "# filter out paidpost?\n",
    "total_df[\"document_type\"].value_counts()"
   ]
  },
  {
   "cell_type": "code",
   "execution_count": 223,
   "id": "41731df2",
   "metadata": {},
   "outputs": [
    {
     "data": {
      "text/plain": [
       "News                   1006\n",
       "Op-Ed                   180\n",
       "Interactive Feature      31\n",
       "Review                   22\n",
       "Editorial                18\n",
       "Letter                   14\n",
       "briefing                 11\n",
       "News Analysis             8\n",
       "Video                     8\n",
       "Obituary (Obit)           2\n",
       "List                      2\n",
       "Name: type_of_material, dtype: int64"
      ]
     },
     "execution_count": 223,
     "metadata": {},
     "output_type": "execute_result"
    }
   ],
   "source": [
    "total_df[\"type_of_material\"].value_counts()"
   ]
  },
  {
   "cell_type": "code",
   "execution_count": 177,
   "id": "02df774f",
   "metadata": {},
   "outputs": [],
   "source": [
    "total_df[\"pub_date\"] = pd.to_datetime(total_df[\"pub_date\"])"
   ]
  },
  {
   "cell_type": "code",
   "execution_count": 178,
   "id": "46911c87",
   "metadata": {},
   "outputs": [
    {
     "data": {
      "text/plain": [
       "<AxesSubplot:xlabel='pub_date'>"
      ]
     },
     "execution_count": 178,
     "metadata": {},
     "output_type": "execute_result"
    },
    {
     "data": {
      "image/png": "[encoded data removed]",
      "text/plain": [
       "<Figure size 432x288 with 1 Axes>"
      ]
     },
     "metadata": {
      "needs_background": "light"
     },
     "output_type": "display_data"
    }
   ],
   "source": [
    "total_df.groupby(\"pub_date\").count()[\"headline\"].resample(\"D\").sum().plot()"
   ]
  },
  {
   "cell_type": "markdown",
   "id": "ae212cf2",
   "metadata": {},
   "source": [
    "### Test case"
   ]
  },
  {
   "cell_type": "code",
   "execution_count": 112,
   "id": "79d954d4",
   "metadata": {},
   "outputs": [],
   "source": [
    "organizations = ['Apple Inc', 'Amazon.com Inc', 'Facebook Inc', 'Alphabet Inc', 'Tesla Motors Inc', 'Microsoft Corp']\n",
    "\n",
    "url = \"https://api.nytimes.com/svc/search/v2/articlesearch.json\"\n",
    "\n",
    "params = {\n",
    "    \"q\": \"\",\n",
    "    \"fq\":\"organizations:(Apple Inc)\",\n",
    "    \"begin_date\": \"20190101\",\n",
    "    \"end_date\": \"20191231\",\n",
    "    \"api-key\": \"td7X3SlGWRvZfBdGcUsdB5QqfRgJ7gut\",\n",
    "    \"page\": 0,  # Start with the first page of results\n",
    "    \"sort\":\"oldest\"\n",
    "}\n",
    "\n",
    "response = requests.get(url, params=params)"
   ]
  },
  {
   "cell_type": "code",
   "execution_count": 113,
   "id": "9355f166",
   "metadata": {},
   "outputs": [
    {
     "name": "stdout",
     "output_type": "stream",
     "text": [
      "{'hits': 234, 'offset': 0, 'time': 16}\n"
     ]
    }
   ],
   "source": [
    "response\n",
    "print(response.json()['response']['meta'])"
   ]
  },
  {
   "cell_type": "code",
   "execution_count": null,
   "id": "91063667",
   "metadata": {},
   "outputs": [],
   "source": [
    "ls = []\n",
    "for doc in response.json()['response']['docs']:\n",
    "    print(\"\\n\")\n",
    "    print(f'Abstract: {doc[\"abstract\"]}')\n",
    "    print(doc[\"lead_paragraph\"])\n",
    "    print(doc[\"web_url\"])\n",
    "    print(doc[\"pub_date\"])\n",
    "    print(doc[\"news_desk\"])\n",
    "    print(doc[\"section_name\"])\n",
    "    print(doc[\"type_of_material\"])\n",
    "    pprint(doc[\"keywords\"])\n",
    "    del doc[\"multimedia\"]\n",
    "    ls.append(doc)"
   ]
  },
  {
   "cell_type": "code",
   "execution_count": 86,
   "id": "009a8bf3",
   "metadata": {},
   "outputs": [],
   "source": [
    "a =  response.json()['response']['docs'][0]\n",
    "\n"
   ]
  },
  {
   "cell_type": "code",
   "execution_count": 88,
   "id": "11733bb1",
   "metadata": {},
   "outputs": [],
   "source": []
  },
  {
   "cell_type": "code",
   "execution_count": 89,
   "id": "2c973d2c",
   "metadata": {},
   "outputs": [
    {
     "data": {
      "text/plain": [
       "{'abstract': 'And what that tells us about the fate of Apple in China.',\n",
       " 'web_url': 'https://www.nytimes.com/2019/01/05/opinion/sunday/apple-china.html',\n",
       " 'snippet': 'And what that tells us about the fate of Apple in China.',\n",
       " 'lead_paragraph': 'I got my first iPhone during Chinese New Year in early 2012. It wasn’t anything I’d aspired to own. I wasn’t particularly techy, nor could I afford the brand as a graduate with a starting salary.',\n",
       " 'print_section': 'SR',\n",
       " 'print_page': '11',\n",
       " 'source': 'The New York Times',\n",
       " 'headline': {'main': 'Why My Chinese Dad Switched From an iPhone to a Huawei',\n",
       "  'kicker': None,\n",
       "  'content_kicker': None,\n",
       "  'print_headline': 'Why My Chinese Dad Quit His iPhone',\n",
       "  'name': None,\n",
       "  'seo': None,\n",
       "  'sub': None},\n",
       " 'keywords': [{'name': 'subject',\n",
       "   'value': 'Computers and the Internet',\n",
       "   'rank': 1,\n",
       "   'major': 'N'},\n",
       "  {'name': 'subject', 'value': 'Smartphones', 'rank': 2, 'major': 'N'},\n",
       "  {'name': 'subject', 'value': 'iPhone', 'rank': 3, 'major': 'N'},\n",
       "  {'name': 'subject',\n",
       "   'value': 'Luxury Goods and Services',\n",
       "   'rank': 4,\n",
       "   'major': 'N'},\n",
       "  {'name': 'organizations', 'value': 'Apple Inc', 'rank': 5, 'major': 'N'},\n",
       "  {'name': 'organizations',\n",
       "   'value': 'Huawei Technologies Co Ltd',\n",
       "   'rank': 6,\n",
       "   'major': 'N'},\n",
       "  {'name': 'organizations', 'value': 'Xiaomi Tech', 'rank': 7, 'major': 'N'},\n",
       "  {'name': 'glocations', 'value': 'China', 'rank': 8, 'major': 'N'}],\n",
       " 'pub_date': '2019-01-05T19:30:01+0000',\n",
       " 'document_type': 'article',\n",
       " 'news_desk': 'OpEd',\n",
       " 'section_name': 'Opinion',\n",
       " 'subsection_name': 'Sunday Review',\n",
       " 'byline': {'original': 'By Yuan Ren',\n",
       "  'person': [{'firstname': 'Yuan',\n",
       "    'middlename': None,\n",
       "    'lastname': 'Ren',\n",
       "    'qualifier': None,\n",
       "    'title': None,\n",
       "    'role': 'reported',\n",
       "    'organization': '',\n",
       "    'rank': 1}],\n",
       "  'organization': None},\n",
       " 'type_of_material': 'Op-Ed',\n",
       " '_id': 'nyt://article/141770ca-713b-5834-a4f3-cb5a5147137d',\n",
       " 'word_count': 1015,\n",
       " 'uri': 'nyt://article/141770ca-713b-5834-a4f3-cb5a5147137d'}"
      ]
     },
     "execution_count": 89,
     "metadata": {},
     "output_type": "execute_result"
    }
   ],
   "source": [
    "a"
   ]
  },
  {
   "cell_type": "code",
   "execution_count": null,
   "id": "b6f3996a",
   "metadata": {},
   "outputs": [],
   "source": []
  }
 ],
 "metadata": {
  "kernelspec": {
   "display_name": "Python 3 (ipykernel)",
   "language": "python",
   "name": "python3"
  },
  "language_info": {
   "codemirror_mode": {
    "name": "ipython",
    "version": 3
   },
   "file_extension": ".py",
   "mimetype": "text/x-python",
   "name": "python",
   "nbconvert_exporter": "python",
   "pygments_lexer": "ipython3",
   "version": "3.9.7"
  }
 },
 "nbformat": 4,
 "nbformat_minor": 5
}
